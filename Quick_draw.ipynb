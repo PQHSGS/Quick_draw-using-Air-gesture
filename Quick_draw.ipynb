{
  "cells": [
    {
      "cell_type": "markdown",
      "metadata": {
        "id": "view-in-github",
        "colab_type": "text"
      },
      "source": [
        "<a href=\"https://colab.research.google.com/github/PQHSGS/Quick_draw-using-Air-gesture/blob/main/Quick_draw.ipynb\" target=\"_parent\"><img src=\"https://colab.research.google.com/assets/colab-badge.svg\" alt=\"Open In Colab\"/></a>"
      ]
    },
    {
      "cell_type": "code",
      "execution_count": null,
      "metadata": {
        "id": "VFFWEW0TTpoG"
      },
      "outputs": [],
      "source": [
        "import numpy as np\n",
        "import matplotlib.pyplot as plt\n",
        "import seaborn as sns\n",
        "import os\n",
        "import random"
      ]
    },
    {
      "cell_type": "code",
      "execution_count": null,
      "metadata": {
        "colab": {
          "base_uri": "https://localhost:8080/"
        },
        "id": "8MsX9YJQXmXx",
        "outputId": "eb189bc3-8698-4133-8414-a157b0e0a773"
      },
      "outputs": [
        {
          "output_type": "stream",
          "name": "stdout",
          "text": [
            "Drive already mounted at /content/drive; to attempt to forcibly remount, call drive.mount(\"/content/drive\", force_remount=True).\n"
          ]
        }
      ],
      "source": [
        "from google.colab import drive\n",
        "drive.mount('/content/drive')"
      ]
    },
    {
      "cell_type": "code",
      "execution_count": null,
      "metadata": {
        "colab": {
          "base_uri": "https://localhost:8080/"
        },
        "id": "tMEO-1U2ZSZ3",
        "outputId": "aec5fc51-a27a-4b6a-b3d9-2d008342c406"
      },
      "outputs": [
        {
          "output_type": "stream",
          "name": "stdout",
          "text": [
            "(array(['apple', 'banana', 'cake', 'cruise ship', 'face', 'fish', 'flower',\n",
            "       'lantern', 'lion', 'moon', 'pear', 'pineapple', 'rabbit', 'star',\n",
            "       'strawberry', 'tree', 'watermelon'], dtype='<U11'), array([25000, 25000, 25000, 25000, 25000, 25000, 25000, 25000, 25000,\n",
            "       25000, 25000, 25000, 25000, 25000, 25000, 25000, 25000]))\n"
          ]
        }
      ],
      "source": [
        "npy_files = [f for f in os.listdir('/content/drive/MyDrive/Colab Notebooks/Datasets/Trung thu_VME') if f.endswith('.npy')]\n",
        "npy_files.sort()\n",
        "image=[]\n",
        "labels=[]\n",
        "classes=[]\n",
        "num=0\n",
        "img_num=25000\n",
        "id=np.random.randint(1,100000,img_num)\n",
        "for file in npy_files:\n",
        "  label=file.split('_')[-1].split('.')[0]\n",
        "  data = np.load(os.path.join('/content/drive/MyDrive/Colab Notebooks/Datasets/Trung thu_VME', file,))\n",
        "  data=data.reshape(data.shape[0],28,28)\n",
        "  image.extend(data[id])\n",
        "  for _ in range(img_num):\n",
        "    labels.append(label[:img_num])\n",
        "    classes.append(num)\n",
        "  num+=1\n",
        "image=np.array(image)\n",
        "labels=np.array(labels)\n",
        "classes=np.array(classes)\n",
        "print(np.unique(labels,return_counts=True))"
      ]
    },
    {
      "cell_type": "code",
      "source": [
        "import cv2\n",
        "\n",
        "# Create a new list to store the resized images\n",
        "resized_images = []\n",
        "SIZE=32\n",
        "for i in range(image.shape[0]):\n",
        "  resized_image = cv2.resize(image[i], (SIZE, SIZE))\n",
        "  resized_images.append(resized_image)\n",
        "\n",
        "# Convert the list of resized images to a NumPy array\n",
        "image = np.array(resized_images)"
      ],
      "metadata": {
        "id": "fY7PTZx8HV2k"
      },
      "execution_count": null,
      "outputs": []
    },
    {
      "cell_type": "code",
      "execution_count": null,
      "metadata": {
        "colab": {
          "base_uri": "https://localhost:8080/",
          "height": 470
        },
        "id": "wMAZwiiDaiL1",
        "outputId": "759801ba-0bcb-465f-dcdd-bbef3550312b"
      },
      "outputs": [
        {
          "output_type": "execute_result",
          "data": {
            "text/plain": [
              "Text(0.5, 1.0, 'cruise ship')"
            ]
          },
          "metadata": {},
          "execution_count": 176
        },
        {
          "output_type": "display_data",
          "data": {
            "text/plain": [
              "<Figure size 640x480 with 1 Axes>"
            ],
            "image/png": "[encoded data removed]"
          },
          "metadata": {}
        }
      ],
      "source": [
        "id=random.randint(0,len(image))\n",
        "plt.imshow(image[id],cmap='gray')\n",
        "plt.title(labels[id])"
      ]
    },
    {
      "cell_type": "code",
      "execution_count": null,
      "metadata": {
        "id": "QsiZi3kmc_qF"
      },
      "outputs": [],
      "source": [
        "from sklearn.model_selection import train_test_split\n",
        "full_train_images, test_images, full_train_classes, test_classes_1 = train_test_split(image, classes, test_size=0.2, random_state=42, stratify=classes)\n",
        "train_images, val_images, train_classes_1, val_classes_1 = train_test_split(full_train_images, full_train_classes, test_size=0.25, random_state=42, stratify=full_train_classes)"
      ]
    },
    {
      "cell_type": "code",
      "execution_count": null,
      "metadata": {
        "id": "X3zqPzaCa6Nt"
      },
      "outputs": [],
      "source": [
        "from keras.utils import to_categorical\n",
        "train_classes = to_categorical(train_classes_1)\n",
        "val_classes = to_categorical(val_classes_1)\n",
        "test_classes = to_categorical(test_classes_1)"
      ]
    },
    {
      "cell_type": "code",
      "execution_count": null,
      "metadata": {
        "id": "NrvSwtAle8J6"
      },
      "outputs": [],
      "source": [
        "from keras.models import Sequential\n",
        "from keras.layers import Conv2D, MaxPooling2D, Flatten, Dense, Dropout, BatchNormalization, GlobalAvgPool2D\n",
        "from keras.callbacks import EarlyStopping, ModelCheckpoint"
      ]
    },
    {
      "cell_type": "markdown",
      "metadata": {
        "id": "C28wQRLPKet_"
      },
      "source": [
        "**VGG**"
      ]
    },
    {
      "cell_type": "code",
      "execution_count": null,
      "metadata": {
        "id": "bB0WPdB4hxkw",
        "colab": {
          "base_uri": "https://localhost:8080/"
        },
        "outputId": "6b59c00d-200a-4c72-d156-fce5954ac13a"
      },
      "outputs": [
        {
          "output_type": "stream",
          "name": "stderr",
          "text": [
            "/usr/local/lib/python3.10/dist-packages/keras/src/layers/convolutional/base_conv.py:107: UserWarning: Do not pass an `input_shape`/`input_dim` argument to a layer. When using Sequential models, prefer using an `Input(shape)` object as the first layer in the model instead.\n",
            "  super().__init__(activity_regularizer=activity_regularizer, **kwargs)\n"
          ]
        }
      ],
      "source": [
        "len=train_classes.shape[1]\n",
        "model=Sequential()\n",
        "model.add(Conv2D(32,kernel_size=(5,5),activation='relu',input_shape=(32,32,1)))\n",
        "model.add(Conv2D(32,kernel_size=(5,5),activation='relu'))\n",
        "model.add(MaxPooling2D(pool_size=(2,2)))\n",
        "\n",
        "model.add(Conv2D(64,kernel_size=(3,3),activation='relu'))\n",
        "model.add(Conv2D(64,kernel_size=(3,3),activation='relu'))\n",
        "model.add(MaxPooling2D(pool_size=(2,2)))\n",
        "\n",
        "model.add(Conv2D(128,kernel_size=(3,3),activation='relu',padding='same'))\n",
        "model.add(Conv2D(128,kernel_size=(3,3),activation='relu',padding='same'))\n",
        "model.add(Conv2D(128,kernel_size=(3,3),activation='relu',padding='same'))\n",
        "model.add(MaxPooling2D(pool_size=(2,2)))\n",
        "\n",
        "model.add(Conv2D(256,kernel_size=(3,3),activation='relu',padding='same'))\n",
        "model.add(Conv2D(256,kernel_size=(3,3),activation='relu',padding='same'))\n",
        "model.add(Conv2D(256,kernel_size=(3,3),activation='relu',padding='same'))\n",
        "model.add(MaxPooling2D(pool_size=(2,2)))\n",
        "\n",
        "model.add(Flatten())\n",
        "model.add(Dropout(0.2))\n",
        "model.add(Dense(64,activation='relu'))\n",
        "model.add(Dense(len,activation='softmax'))\n",
        "model.compile(optimizer='adam',loss='categorical_crossentropy',metrics=['accuracy'])"
      ]
    },
    {
      "cell_type": "code",
      "source": [
        "model.summary()"
      ],
      "metadata": {
        "id": "hJYIq16HtGqS"
      },
      "execution_count": null,
      "outputs": []
    },
    {
      "cell_type": "code",
      "execution_count": null,
      "metadata": {
        "colab": {
          "base_uri": "https://localhost:8080/"
        },
        "id": "BsYHc016k7SW",
        "outputId": "2fb0409d-6aaf-48b3-c7e7-dd70c7802e2b"
      },
      "outputs": [
        {
          "output_type": "stream",
          "name": "stdout",
          "text": [
            "Epoch 1/50\n",
            "\u001b[1m997/997\u001b[0m \u001b[32m━━━━━━━━━━━━━━━━━━━━\u001b[0m\u001b[37m\u001b[0m \u001b[1m35s\u001b[0m 25ms/step - accuracy: 0.6373 - loss: 1.1541 - val_accuracy: 0.8526 - val_loss: 0.4990\n",
            "Epoch 2/50\n",
            "\u001b[1m997/997\u001b[0m \u001b[32m━━━━━━━━━━━━━━━━━━━━\u001b[0m\u001b[37m\u001b[0m \u001b[1m28s\u001b[0m 19ms/step - accuracy: 0.8702 - loss: 0.4317 - val_accuracy: 0.8724 - val_loss: 0.4311\n",
            "Epoch 3/50\n",
            "\u001b[1m997/997\u001b[0m \u001b[32m━━━━━━━━━━━━━━━━━━━━\u001b[0m\u001b[37m\u001b[0m \u001b[1m20s\u001b[0m 18ms/step - accuracy: 0.8879 - loss: 0.3750 - val_accuracy: 0.8904 - val_loss: 0.3688\n",
            "Epoch 4/50\n",
            "\u001b[1m997/997\u001b[0m \u001b[32m━━━━━━━━━━━━━━━━━━━━\u001b[0m\u001b[37m\u001b[0m \u001b[1m21s\u001b[0m 19ms/step - accuracy: 0.8998 - loss: 0.3298 - val_accuracy: 0.8907 - val_loss: 0.3788\n",
            "Epoch 5/50\n",
            "\u001b[1m997/997\u001b[0m \u001b[32m━━━━━━━━━━━━━━━━━━━━\u001b[0m\u001b[37m\u001b[0m \u001b[1m20s\u001b[0m 18ms/step - accuracy: 0.9072 - loss: 0.3073 - val_accuracy: 0.8962 - val_loss: 0.3505\n",
            "Epoch 6/50\n",
            "\u001b[1m997/997\u001b[0m \u001b[32m━━━━━━━━━━━━━━━━━━━━\u001b[0m\u001b[37m\u001b[0m \u001b[1m21s\u001b[0m 19ms/step - accuracy: 0.9149 - loss: 0.2863 - val_accuracy: 0.9011 - val_loss: 0.3422\n",
            "Epoch 7/50\n",
            "\u001b[1m997/997\u001b[0m \u001b[32m━━━━━━━━━━━━━━━━━━━━\u001b[0m\u001b[37m\u001b[0m \u001b[1m20s\u001b[0m 19ms/step - accuracy: 0.9183 - loss: 0.2708 - val_accuracy: 0.9022 - val_loss: 0.3394\n",
            "Epoch 8/50\n",
            "\u001b[1m997/997\u001b[0m \u001b[32m━━━━━━━━━━━━━━━━━━━━\u001b[0m\u001b[37m\u001b[0m \u001b[1m20s\u001b[0m 19ms/step - accuracy: 0.9218 - loss: 0.2582 - val_accuracy: 0.9011 - val_loss: 0.3409\n",
            "Epoch 9/50\n",
            "\u001b[1m997/997\u001b[0m \u001b[32m━━━━━━━━━━━━━━━━━━━━\u001b[0m\u001b[37m\u001b[0m \u001b[1m19s\u001b[0m 19ms/step - accuracy: 0.9257 - loss: 0.2433 - val_accuracy: 0.8990 - val_loss: 0.3578\n",
            "Epoch 10/50\n",
            "\u001b[1m997/997\u001b[0m \u001b[32m━━━━━━━━━━━━━━━━━━━━\u001b[0m\u001b[37m\u001b[0m \u001b[1m20s\u001b[0m 18ms/step - accuracy: 0.9283 - loss: 0.2384 - val_accuracy: 0.9036 - val_loss: 0.3543\n",
            "Epoch 11/50\n",
            "\u001b[1m997/997\u001b[0m \u001b[32m━━━━━━━━━━━━━━━━━━━━\u001b[0m\u001b[37m\u001b[0m \u001b[1m21s\u001b[0m 19ms/step - accuracy: 0.9303 - loss: 0.2269 - val_accuracy: 0.9054 - val_loss: 0.3500\n",
            "Epoch 12/50\n",
            "\u001b[1m997/997\u001b[0m \u001b[32m━━━━━━━━━━━━━━━━━━━━\u001b[0m\u001b[37m\u001b[0m \u001b[1m18s\u001b[0m 18ms/step - accuracy: 0.9317 - loss: 0.2255 - val_accuracy: 0.9050 - val_loss: 0.3523\n",
            "Epoch 13/50\n",
            "\u001b[1m997/997\u001b[0m \u001b[32m━━━━━━━━━━━━━━━━━━━━\u001b[0m\u001b[37m\u001b[0m \u001b[1m18s\u001b[0m 18ms/step - accuracy: 0.9347 - loss: 0.2183 - val_accuracy: 0.9067 - val_loss: 0.3427\n",
            "Epoch 14/50\n",
            "\u001b[1m997/997\u001b[0m \u001b[32m━━━━━━━━━━━━━━━━━━━━\u001b[0m\u001b[37m\u001b[0m \u001b[1m21s\u001b[0m 19ms/step - accuracy: 0.9373 - loss: 0.2102 - val_accuracy: 0.9047 - val_loss: 0.3514\n",
            "Epoch 15/50\n",
            "\u001b[1m997/997\u001b[0m \u001b[32m━━━━━━━━━━━━━━━━━━━━\u001b[0m\u001b[37m\u001b[0m \u001b[1m19s\u001b[0m 20ms/step - accuracy: 0.9384 - loss: 0.2036 - val_accuracy: 0.9070 - val_loss: 0.3541\n",
            "Epoch 16/50\n",
            "\u001b[1m997/997\u001b[0m \u001b[32m━━━━━━━━━━━━━━━━━━━━\u001b[0m\u001b[37m\u001b[0m \u001b[1m21s\u001b[0m 20ms/step - accuracy: 0.9397 - loss: 0.2006 - val_accuracy: 0.9048 - val_loss: 0.3575\n",
            "Epoch 17/50\n",
            "\u001b[1m997/997\u001b[0m \u001b[32m━━━━━━━━━━━━━━━━━━━━\u001b[0m\u001b[37m\u001b[0m \u001b[1m18s\u001b[0m 18ms/step - accuracy: 0.9412 - loss: 0.1970 - val_accuracy: 0.9084 - val_loss: 0.3453\n"
          ]
        }
      ],
      "source": [
        "epoch=50\n",
        "batch=256\n",
        "callback=[EarlyStopping(monitor='val_loss',patience=10,verbose=0,restore_best_weights=True)]\n",
        "H=model.fit(train_images,train_classes,epochs=epoch,batch_size=batch,validation_data=(val_images,val_classes),callbacks=[callback])\n"
      ]
    },
    {
      "cell_type": "code",
      "execution_count": null,
      "metadata": {
        "id": "chPCABdaE8yE",
        "colab": {
          "base_uri": "https://localhost:8080/"
        },
        "outputId": "2ed090f1-4b22-4eee-e6a2-5b6de887956c"
      },
      "outputs": [
        {
          "output_type": "stream",
          "name": "stderr",
          "text": [
            "WARNING:absl:The `save_format` argument is deprecated in Keras 3. We recommend removing this argument as it can be inferred from the file path. Received: save_format=h5\n",
            "WARNING:absl:You are saving your model as an HDF5 file via `model.save()` or `keras.saving.save_model(model)`. This file format is considered legacy. We recommend using instead the native Keras format, e.g. `model.save('my_model.keras')` or `keras.saving.save_model(model, 'my_model.keras')`. \n"
          ]
        }
      ],
      "source": [
        "model.save('/content/drive/MyDrive/Colab Notebooks/Datasets/weights_VGG_new.h5',save_format='h5')"
      ]
    },
    {
      "cell_type": "code",
      "execution_count": null,
      "metadata": {
        "colab": {
          "base_uri": "https://localhost:8080/",
          "height": 495
        },
        "id": "zZhb8PS8wfgZ",
        "outputId": "d4b72aad-7377-4307-c470-bd2b1cea9b00"
      },
      "outputs": [
        {
          "output_type": "execute_result",
          "data": {
            "text/plain": [
              "<matplotlib.legend.Legend at 0x7a96a83e2b30>"
            ]
          },
          "metadata": {},
          "execution_count": 9
        },
        {
          "output_type": "display_data",
          "data": {
            "text/plain": [
              "<Figure size 640x480 with 1 Axes>"
            ],
            "image/png": "[encoded data removed]"
          },
          "metadata": {}
        }
      ],
      "source": [
        "last_epoch=17\n",
        "plt.style.use('ggplot')\n",
        "fig = plt.figure()\n",
        "plt.plot(np.arange(0,last_epoch), H.history['loss'], label='training loss')\n",
        "plt.plot(np.arange(0,last_epoch), H.history['val_loss'], label='validation loss')\n",
        "plt.plot(np.arange(0,last_epoch), H.history['accuracy'], label='accuracy')\n",
        "plt.plot(np.arange(0,last_epoch), H.history['val_accuracy'], label='validation accuracy')\n",
        "plt.title('Accuracy and Loss')\n",
        "plt.xlabel('Epoch')\n",
        "plt.ylabel('Loss|Accuracy')\n",
        "plt.legend()"
      ]
    },
    {
      "cell_type": "code",
      "source": [
        "predicts=model.predict(test_images)\n",
        "predicts=np.argmax(predicts,axis=1)"
      ],
      "metadata": {
        "id": "9BQU4Hu4hciB",
        "colab": {
          "base_uri": "https://localhost:8080/"
        },
        "outputId": "31d891ea-df2b-4874-cee0-ca60ae45a0a5"
      },
      "execution_count": null,
      "outputs": [
        {
          "output_type": "execute_result",
          "data": {
            "text/plain": [
              "2"
            ]
          },
          "metadata": {},
          "execution_count": 13
        }
      ]
    },
    {
      "cell_type": "code",
      "execution_count": null,
      "metadata": {
        "colab": {
          "base_uri": "https://localhost:8080/"
        },
        "id": "SnaxctDcI7Vm",
        "outputId": "d4a3c4ce-728e-47d9-9c36-c530362167cc"
      },
      "outputs": [
        {
          "output_type": "stream",
          "name": "stdout",
          "text": [
            "              precision    recall  f1-score   support\n",
            "\n",
            "           0       0.92      0.93      0.93      5000\n",
            "           1       0.85      0.89      0.87      5000\n",
            "           2       0.89      0.92      0.91      5000\n",
            "           3       0.93      0.89      0.91      5000\n",
            "           4       0.95      0.91      0.93      5000\n",
            "           5       0.95      0.94      0.94      5000\n",
            "           6       0.95      0.89      0.92      5000\n",
            "           7       0.85      0.86      0.85      5000\n",
            "           8       0.87      0.88      0.87      5000\n",
            "           9       0.84      0.80      0.82      5000\n",
            "          10       0.91      0.93      0.92      5000\n",
            "          11       0.86      0.93      0.89      5000\n",
            "          12       0.91      0.90      0.90      5000\n",
            "          13       0.96      0.95      0.95      5000\n",
            "          14       0.92      0.87      0.89      5000\n",
            "          15       0.92      0.96      0.94      5000\n",
            "          16       0.87      0.89      0.88      5000\n",
            "\n",
            "    accuracy                           0.90     85000\n",
            "   macro avg       0.90      0.90      0.90     85000\n",
            "weighted avg       0.90      0.90      0.90     85000\n",
            "\n"
          ]
        }
      ],
      "source": [
        "test_classes=np.argmax(test_classes,axis=1)\n",
        "from sklearn.metrics import classification_report,confusion_matrix\n",
        "print(classification_report(test_classes,predicts))"
      ]
    }
  ],
  "metadata": {
    "colab": {
      "provenance": [],
      "gpuType": "T4",
      "mount_file_id": "1XigrMWoC4SE53rrZJNx6ugVWPBtWIPGu",
      "authorship_tag": "ABX9TyMuy3SLGoJvK4brNvdjTkA6",
      "include_colab_link": true
    },
    "kernelspec": {
      "display_name": "Python 3",
      "name": "python3"
    },
    "language_info": {
      "name": "python"
    },
    "accelerator": "GPU"
  },
  "nbformat": 4,
  "nbformat_minor": 0
}